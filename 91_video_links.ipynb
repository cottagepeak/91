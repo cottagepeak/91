{
  "nbformat": 4,
  "nbformat_minor": 0,
  "metadata": {
    "colab": {
      "name": "91_video_links.ipynb",
      "provenance": [],
      "collapsed_sections": []
    },
    "kernelspec": {
      "name": "python3",
      "display_name": "Python 3"
    }
  },
  "cells": [
    {
      "cell_type": "code",
      "metadata": {
        "id": "lYcj7HVjXydl",
        "colab_type": "code",
        "colab": {}
      },
      "source": [
        "from bs4 import BeautifulSoup\n",
        "import re"
      ],
      "execution_count": 0,
      "outputs": []
    },
    {
      "cell_type": "code",
      "metadata": {
        "id": "pVZwTNolRYBJ",
        "colab_type": "code",
        "colab": {}
      },
      "source": [
        "!pip install selenium\n",
        "!apt-get update \n",
        "!apt install chromium-chromedriver\n",
        "\n",
        "from selenium import webdriver\n",
        "chrome_options = webdriver.ChromeOptions()\n",
        "chrome_options.add_argument('--headless')\n",
        "chrome_options.add_argument('--no-sandbox')\n",
        "chrome_options.add_argument('--disable-dev-shm-usage')\n",
        "\n",
        "driver=webdriver.Chrome('chromedriver',chrome_options=chrome_options)\n"
      ],
      "execution_count": 0,
      "outputs": []
    },
    {
      "cell_type": "code",
      "metadata": {
        "id": "fuO2vIALSHf4",
        "colab_type": "code",
        "colab": {}
      },
      "source": [
        "def get_video_link_from_91_view_video(driver, view_video_link):\n",
        "  driver.get(view_video_link)\n",
        "  html = driver.page_source\n",
        "  soup = BeautifulSoup(html)\n",
        "\n",
        "  #get the src attribute from the video tag\n",
        "  video = soup.find(\"video\").get(\"src\")\n",
        "\n",
        "  return video\n"
      ],
      "execution_count": 0,
      "outputs": []
    },
    {
      "cell_type": "code",
      "metadata": {
        "id": "b8IHWmtyuW_X",
        "colab_type": "code",
        "colab": {}
      },
      "source": [
        "view_video_link=\"http://www.91porn.com/view_video.php?viewkey=48f803bf6ab1bed60a76&page=2&viewtype=basic&category=top\"\n",
        "\n",
        "driver.get(view_video_link)\n",
        "html = driver.page_source\n",
        "soup = BeautifulSoup(html)\n",
        "soup\n",
        "#get the src attribute from the video tag\n",
        "#video = soup.find(\"video\").get(\"src\")\n",
        "\n",
        "#video"
      ],
      "execution_count": 0,
      "outputs": []
    },
    {
      "cell_type": "code",
      "metadata": {
        "id": "Ukh2Y6MuaxQS",
        "colab_type": "code",
        "colab": {}
      },
      "source": [
        "driver.get(\"http://www.91porn.com/v.php?category=top&page=2\")\n",
        "html = driver.page_source\n",
        "soup = BeautifulSoup(html)"
      ],
      "execution_count": 0,
      "outputs": []
    },
    {
      "cell_type": "code",
      "metadata": {
        "id": "-2IyC-Psc4R2",
        "colab_type": "code",
        "colab": {}
      },
      "source": [
        "urls=[]\n",
        "for link in soup.findAll('a', attrs={'href': re.compile(\"^http\")}):\n",
        "  href = link.get('href')\n",
        "  if href is not None and \"viewkey=\" in href:\n",
        "    video = get_video_link_from_91_view_video(driver, href)\n",
        "    urls.append(video)"
      ],
      "execution_count": 0,
      "outputs": []
    },
    {
      "cell_type": "code",
      "metadata": {
        "id": "dTHgY_sydGuz",
        "colab_type": "code",
        "colab": {}
      },
      "source": [
        "urls"
      ],
      "execution_count": 0,
      "outputs": []
    }
  ]
}